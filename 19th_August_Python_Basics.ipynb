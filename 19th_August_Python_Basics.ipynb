{
 "cells": [
  {
   "cell_type": "markdown",
   "id": "d2a9d541-b3b4-48c2-8450-ef92de93678d",
   "metadata": {},
   "source": [
    "##TOPIC: Python Basics Variable\n",
    "\n",
    "#1. Declare two variables, `x` and `y`, and assign them integer values.\n",
    "Swap the values of these variables without using any temporary\n",
    "variable."
   ]
  },
  {
   "cell_type": "code",
   "execution_count": null,
   "id": "242c4cda-ddd6-4f36-ba28-a92b070c4eab",
   "metadata": {},
   "outputs": [],
   "source": [
    "x=40\n",
    "y=60"
   ]
  },
  {
   "cell_type": "code",
   "execution_count": null,
   "id": "0c745232-dca6-4999-988e-f0db685a3ef8",
   "metadata": {},
   "outputs": [],
   "source": [
    "x=x+y\n",
    "y=x-y\n",
    "x=x-y"
   ]
  },
  {
   "cell_type": "code",
   "execution_count": null,
   "id": "cccc17f2-f30b-4288-8d0f-c90c90fbf811",
   "metadata": {
    "tags": []
   },
   "outputs": [],
   "source": [
    "print(\"After Swapping x & y = \",x,y)"
   ]
  },
  {
   "cell_type": "markdown",
   "id": "331da980-ca9a-4f48-8586-f275b0b00920",
   "metadata": {},
   "source": [
    "#2. Create a program that calculates the area of a rectangle. Take the\n",
    "length and width as inputs from the user and store them in variables.\n",
    "Calculate and display the area"
   ]
  },
  {
   "cell_type": "code",
   "execution_count": null,
   "id": "9f187d30-9ea5-4d90-90d0-79f3e1ca7e10",
   "metadata": {},
   "outputs": [],
   "source": [
    "a=input(\"Enter the length of rectangle \")\n",
    "b=input(\"Enter the Width of rectangle \")\n",
    "Area = int(a )*int( b)\n",
    "print(\"The Area of rectangle = \", Area)"
   ]
  },
  {
   "cell_type": "markdown",
   "id": "10cb5180-fa13-4a0a-8e88-4b99ccd7411c",
   "metadata": {},
   "source": [
    "#3. Write a Python program that converts temperature from Celsius to\n",
    "Fahrenheit. Take the temperature in Celsius as input, store it in a\n",
    "variable, convert it to Fahrenheit, and display the result.\n"
   ]
  },
  {
   "cell_type": "code",
   "execution_count": null,
   "id": "a5255342-e63e-4092-8543-c96b21c6df66",
   "metadata": {},
   "outputs": [],
   "source": [
    "celsius = float(input(\"Enter temperature in Celsius: \"))\n",
    "fahrenheit = (celsius * 9/5) + 32\n",
    "print(f\"{celsius} Celsius is equal to {fahrenheit} Fahrenheit\")"
   ]
  },
  {
   "cell_type": "markdown",
   "id": "d75cc6e3-69e4-4326-8133-71df6a8414b0",
   "metadata": {},
   "source": [
    "\n",
    "##TOPIC: String Based Questions"
   ]
  },
  {
   "cell_type": "markdown",
   "id": "5dd8e43e-3064-40a7-bd8d-8317fa6ac326",
   "metadata": {},
   "source": [
    "#1. Write a Python program that takes a string as input and prints the\n",
    "length of the string.\n"
   ]
  },
  {
   "cell_type": "code",
   "execution_count": null,
   "id": "9a9bd4a6-9af3-4b99-b397-5dd619fcf0b5",
   "metadata": {},
   "outputs": [],
   "source": [
    "X=input(\"Enter the String\")\n",
    "P=len(X)\n",
    "print(\"The length of string is \", P)"
   ]
  },
  {
   "cell_type": "markdown",
   "id": "5b3291b1-971b-46c9-aa8b-a04621e3332e",
   "metadata": {},
   "source": [
    "\n",
    "#2. Create a program that takes a sentence from the user and counts the\n",
    "number of vowels (a, e, i, o, u) in the string."
   ]
  },
  {
   "cell_type": "code",
   "execution_count": null,
   "id": "3e6a62ae-584b-4e3b-bb1d-dfb0df3d40e4",
   "metadata": {},
   "outputs": [],
   "source": [
    "sentence=input(\"Enter the sentence\")\n",
    "x=sentence.lower()\n",
    "vowels_count=0\n",
    "vowels=\"aeiou\"\n",
    "for i in x:\n",
    " if i in vowels:\n",
    "    vowels_count+=1\n",
    "print(f\"Number of vowels in the sentence is {vowels_count}\")    "
   ]
  },
  {
   "cell_type": "markdown",
   "id": "67342cf7-cfcd-488d-91f7-80d844cd0124",
   "metadata": {},
   "source": [
    "\n",
    "#3. Given a string, reverse the order of characters using string slicing and\n",
    "print the reversed string.\n"
   ]
  },
  {
   "cell_type": "code",
   "execution_count": null,
   "id": "062241fb-a525-4fa5-afcd-64c7aef8d8bb",
   "metadata": {},
   "outputs": [],
   "source": [
    "a = input(\"Please enter the string\")\n",
    "b=a[ : :-1]\n",
    "print(f\"The reversed string is - {b}\")"
   ]
  },
  {
   "cell_type": "markdown",
   "id": "6df25a8a-39f8-4780-a052-fa489fe4ec3d",
   "metadata": {},
   "source": [
    "\n",
    "#4. Write a program that takes a string as input and checks if it is a\n",
    "palindrome (reads the same forwards and backwards)."
   ]
  },
  {
   "cell_type": "code",
   "execution_count": null,
   "id": "1ee15053-a642-4434-a2bb-1fc757adcae8",
   "metadata": {},
   "outputs": [],
   "source": [
    "x=input(\"Please enter the string\")\n",
    "\n",
    "if (x ==x[ : :-1]):\n",
    "    print(\"The string is palindrome\")\n",
    "else:\n",
    "    print(\"The string is not palindrome\")\n",
    " "
   ]
  },
  {
   "cell_type": "markdown",
   "id": "a663797e-5120-4904-97c7-d9a50f311973",
   "metadata": {},
   "source": [
    "#5. Create a program that takes a string as input and removes all the\n",
    "spaces from it. Print the modified string without spaces."
   ]
  },
  {
   "cell_type": "code",
   "execution_count": null,
   "id": "b1bbf6a6-9e57-4fda-bd8a-d5ac8d81f2b3",
   "metadata": {},
   "outputs": [],
   "source": [
    "s=input(\"please enter the string \")\n",
    "s1=s.replace(\" \",\"\")\n",
    "print(f\"The modified string is {s1}\") "
   ]
  },
  {
   "cell_type": "code",
   "execution_count": null,
   "id": "efde3175-e324-4df3-b840-0f5f5bbce833",
   "metadata": {},
   "outputs": [],
   "source": []
  }
 ],
 "metadata": {
  "kernelspec": {
   "display_name": "Python 3 (ipykernel)",
   "language": "python",
   "name": "python3"
  },
  "language_info": {
   "codemirror_mode": {
    "name": "ipython",
    "version": 3
   },
   "file_extension": ".py",
   "mimetype": "text/x-python",
   "name": "python",
   "nbconvert_exporter": "python",
   "pygments_lexer": "ipython3",
   "version": "3.11.4"
  }
 },
 "nbformat": 4,
 "nbformat_minor": 5
}
